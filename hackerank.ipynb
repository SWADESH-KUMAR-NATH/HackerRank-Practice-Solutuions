{
  "nbformat": 4,
  "nbformat_minor": 0,
  "metadata": {
    "colab": {
      "name": "hackerank.ipynb",
      "provenance": [],
      "collapsed_sections": [],
      "authorship_tag": "ABX9TyP8ZVVhFY81IwLSekW7qn6k",
      "include_colab_link": true
    },
    "kernelspec": {
      "name": "python3",
      "display_name": "Python 3"
    },
    "language_info": {
      "name": "python"
    }
  },
  "cells": [
    {
      "cell_type": "markdown",
      "metadata": {
        "id": "view-in-github",
        "colab_type": "text"
      },
      "source": [
        "<a href=\"https://colab.research.google.com/github/SWADESH-KUMAR-NATH/HackerRank-Practice-Solutuions/blob/main/hackerank.ipynb\" target=\"_parent\"><img src=\"https://colab.research.google.com/assets/colab-badge.svg\" alt=\"Open In Colab\"/></a>"
      ]
    },
    {
      "cell_type": "markdown",
      "metadata": {
        "id": "A0jC8vlVRzPN"
      },
      "source": [
        "#  minion game"
      ]
    },
    {
      "cell_type": "code",
      "metadata": {
        "id": "gfPocBvqRy1l"
      },
      "source": [
        "def fun(s):\n",
        "    a,b=0,0\n",
        "    vowel='AEIOU'\n",
        "    for i in range(len(s)):\n",
        "        if s[i] in vowel:\n",
        "            a+=len(s)-i\n",
        "        else:\n",
        "            b+=len(s)-i\n",
        "    if a>b:\n",
        "        print('kevin',a)\n",
        "    elif b>a:\n",
        "        print('Stuart',b)\n",
        "    else:\n",
        "        print('draw')\n",
        "if __name__==\"__main__\":\n",
        "    fun('BAG')"
      ],
      "execution_count": null,
      "outputs": []
    },
    {
      "cell_type": "markdown",
      "metadata": {
        "id": "wng1TsydSFlP"
      },
      "source": [
        "# substring"
      ]
    },
    {
      "cell_type": "code",
      "metadata": {
        "id": "Xi10zq3XSP96"
      },
      "source": [
        "def merge_the_tools(string,k):\n",
        "    #y=int(len(string)//k)\n",
        "    i=0\n",
        "    while i<len(string):\n",
        "        if i+k>len(string):\n",
        "            a=string[i:]\n",
        "        else:\n",
        "            a=string[i:i+k]\n",
        "        new=''\n",
        "        for j in a:\n",
        "            if j in new:\n",
        "                pass\n",
        "            else:\n",
        "                new += j\n",
        "        print(new)\n",
        "        i+=k\n",
        "\n",
        "if __name__ == '__main__':\n",
        "    string, k = 'aabcddeabbaaa',3\n",
        "    merge_the_tools(string, k)"
      ],
      "execution_count": null,
      "outputs": []
    },
    {
      "cell_type": "markdown",
      "metadata": {
        "id": "bX0MhUYySq0E"
      },
      "source": [
        "# matrix multiplication"
      ]
    },
    {
      "cell_type": "code",
      "metadata": {
        "id": "VzXLTW_PSsrK"
      },
      "source": [
        "import numpy as np\n",
        "a=int(input())\n",
        "A,B,C=np.zeros((a,a),dtype=int),np.zeros((a,a),dtype=int),np.zeros((a,a),dtype=int)\n",
        "for i in range(a):\n",
        "    A[i]=input().split(\" \")\n",
        "for j in range(a):\n",
        "    B[j] = input().split(\" \")\n",
        "\n",
        "for k in range(a):\n",
        "    for l in range(a):\n",
        "        for m in range(a):\n",
        "            C[k][l] += int(A[k][m] * B[m][l])\n",
        "            C[k][l]=int(C[k][l])\n",
        "#print(type(C[1][1]))\n",
        "print(C)"
      ],
      "execution_count": null,
      "outputs": []
    },
    {
      "cell_type": "markdown",
      "metadata": {
        "id": "ofoA5CxRS53V"
      },
      "source": [
        "# matrix multiplication"
      ]
    },
    {
      "cell_type": "code",
      "metadata": {
        "id": "h7naW5LiTCfG"
      },
      "source": [
        "import numpy as np\n",
        "a=input().strip(' ').split(\" \")\n",
        "b=input().strip(' ').split(\" \")\n",
        "A=np.zeros(len(a),dtype=int)\n",
        "B=np.zeros(len(b),dtype=int)\n",
        "for i in range(len(a)):\n",
        "    A[i]=int(a[i])\n",
        "    B[i]=int(b[i])\n",
        "print(np.inner(A,B))\n",
        "print(np.outer(A,B))"
      ],
      "execution_count": null,
      "outputs": []
    },
    {
      "cell_type": "markdown",
      "metadata": {
        "id": "DIRse2POTKvC"
      },
      "source": [
        "# string manipulation"
      ]
    },
    {
      "cell_type": "code",
      "metadata": {
        "id": "UY14gK3-TWeA"
      },
      "source": [
        "import numpy as np\n",
        "\n",
        "a=input().strip(' ').split(' ')\n",
        "c=[]\n",
        "b=int(input())\n",
        "for i in a:\n",
        "    c.append(float(i))   #small but silly mistake\n",
        "print(np.polyval(c,b))"
      ],
      "execution_count": null,
      "outputs": []
    },
    {
      "cell_type": "markdown",
      "metadata": {
        "id": "UnvrYHL2U1TS"
      },
      "source": [
        "\n",
        "# Finding the percentage"
      ]
    },
    {
      "cell_type": "code",
      "metadata": {
        "id": "0Zt-fBKZU3IA"
      },
      "source": [
        "if __name__ == '__main__':\n",
        "    n = int(raw_input())\n",
        "    student_marks = {}\n",
        "    for _ in range(n):\n",
        "        line = raw_input().split()\n",
        "        name, scores = line[0], line[1:]\n",
        "        scores = map(float, scores)\n",
        "        student_marks[name] = scores\n",
        "    query_name = raw_input()\n",
        "    marks=student_marks[query_name]\n",
        "    total=0.00\n",
        "    for i in marks:\n",
        "        total+=float(i)\n",
        "    ans=str(total/3)\n",
        "    while True:\n",
        "        if len(ans[ans.find('.'):])<3:\n",
        "            ans+='0'\n",
        "        elif len(ans[ans.find('.'):])>3:\n",
        "            ans=ans[:ans.find('.')+3]\n",
        "        else:\n",
        "            break\n",
        "    print(ans)"
      ],
      "execution_count": null,
      "outputs": []
    },
    {
      "cell_type": "markdown",
      "metadata": {
        "id": "NSjuhsTdVEu4"
      },
      "source": [
        "# What's Your Name?"
      ]
    },
    {
      "cell_type": "code",
      "metadata": {
        "id": "S9jq7HKRVGU7"
      },
      "source": [
        "def print_full_name(first, last):\n",
        "    # Write your code here\n",
        "    # print(first+last)\n",
        "    print('Hello %s %s! You just delved into python.'%(first,last))\n",
        "\n",
        "if __name__ == '__main__':\n",
        "    first_name = raw_input()\n",
        "    last_name = raw_input()\n",
        "    print_full_name(first_name, last_name)"
      ],
      "execution_count": null,
      "outputs": []
    },
    {
      "cell_type": "markdown",
      "metadata": {
        "id": "kgZH13vYVp60"
      },
      "source": [
        "# Text Alignment"
      ]
    },
    {
      "cell_type": "code",
      "metadata": {
        "colab": {
          "base_uri": "https://localhost:8080/"
        },
        "id": "BDpeRpkkVq6w",
        "outputId": "bcfd1891-8bf3-46a0-a63c-c42d7b5d89f5"
      },
      "source": [
        "thickness = int(input()) #This must be an odd number\n",
        "c = 'H'\n",
        "#Top Cone\n",
        "for i in range(thickness):\n",
        "    print((c*i).rjust(thickness-1)+c+(c*i).ljust(thickness-1))\n",
        "#Top Pillars\n",
        "for i in range(thickness+1):\n",
        "    print((c*thickness).center(thickness*2)+(c*thickness).center(thickness*6))\n",
        "v=(thickness+1)/2\n",
        "#Middle Belt\n",
        "for i in range(int(v)):\n",
        "    print((c*thickness*5).center(thickness*6))\n",
        "#Bottom Pillars\n",
        "for i in range(thickness+1):\n",
        "    print((c*thickness).center(thickness*2)+(c*thickness).center(thickness*6))\n",
        "#Bottom Cone\n",
        "for i in range(thickness):\n",
        "    print(((c*(thickness-i-1)).rjust(thickness)+c+(c*(thickness-i-1)).ljust(thickness)).rjust(thickness*6))"
      ],
      "execution_count": 2,
      "outputs": [
        {
          "output_type": "stream",
          "text": [
            "5\n",
            "    H    \n",
            "   HHH   \n",
            "  HHHHH  \n",
            " HHHHHHH \n",
            "HHHHHHHHH\n",
            "  HHHHH               HHHHH             \n",
            "  HHHHH               HHHHH             \n",
            "  HHHHH               HHHHH             \n",
            "  HHHHH               HHHHH             \n",
            "  HHHHH               HHHHH             \n",
            "  HHHHH               HHHHH             \n",
            "  HHHHHHHHHHHHHHHHHHHHHHHHH   \n",
            "  HHHHHHHHHHHHHHHHHHHHHHHHH   \n",
            "  HHHHHHHHHHHHHHHHHHHHHHHHH   \n",
            "  HHHHH               HHHHH             \n",
            "  HHHHH               HHHHH             \n",
            "  HHHHH               HHHHH             \n",
            "  HHHHH               HHHHH             \n",
            "  HHHHH               HHHHH             \n",
            "  HHHHH               HHHHH             \n",
            "                    HHHHHHHHH \n",
            "                     HHHHHHH  \n",
            "                      HHHHH   \n",
            "                       HHH    \n",
            "                        H     \n"
          ],
          "name": "stdout"
        }
      ]
    },
    {
      "cell_type": "markdown",
      "metadata": {
        "id": "8i_sXPhqV-N7"
      },
      "source": [
        "# s alphabet"
      ]
    },
    {
      "cell_type": "code",
      "metadata": {
        "colab": {
          "base_uri": "https://localhost:8080/"
        },
        "id": "entrSUBHWT2Z",
        "outputId": "49c08887-8282-426a-cf62-f74f4b5261bd"
      },
      "source": [
        "thick=5\n",
        "c='0'\n",
        "for i in range(int((thick-1)/2)):\n",
        "    print((c*(2*i+1)).rjust(thick)+c*2*thick+(c*(2*i+1)).ljust(thick))\n",
        "for i in range(int((thick+1)/2)):\n",
        "    print(c*thick+' '*2*thick+c*thick)\n",
        "for i in range(int(2*(thick-(thick-1)/2))):\n",
        "    print(' '*3*i+c*thick)\n",
        "for i in range(int((thick+1)/2)):\n",
        "    print(c*thick+' '*2*thick+c*thick)\n",
        "for i in range(int((thick-1)/2)):\n",
        "    print((c*(thick-(2*i+1))).rjust(thick)+c*2*thick+(c*(thick-(2*i+1))).ljust(thick))"
      ],
      "execution_count": 1,
      "outputs": [
        {
          "output_type": "stream",
          "text": [
            "    000000000000    \n",
            "  0000000000000000  \n",
            "00000          00000\n",
            "00000          00000\n",
            "00000          00000\n",
            "00000\n",
            "   00000\n",
            "      00000\n",
            "         00000\n",
            "            00000\n",
            "               00000\n",
            "00000          00000\n",
            "00000          00000\n",
            "00000          00000\n",
            " 000000000000000000 \n",
            "   00000000000000   \n"
          ],
          "name": "stdout"
        }
      ]
    },
    {
      "cell_type": "markdown",
      "metadata": {
        "id": "fzUin-K1Wv1p"
      },
      "source": [
        "# String Formatting"
      ]
    },
    {
      "cell_type": "code",
      "metadata": {
        "colab": {
          "base_uri": "https://localhost:8080/"
        },
        "id": "slD1ZXkmWzkE",
        "outputId": "97ed7c27-b901-4457-cb9b-8b210ce20046"
      },
      "source": [
        "def print_formatted(number):\n",
        "    l=len(str(bin(number))[2:])\n",
        "    # your code goes here\n",
        "    for i in range(number):\n",
        "                print(str(i+1).rjust(l),str(oct(i+1))[2:].rjust(l),str(hex(i+1))[2:].upper().rjust(l),str(bin(i+1))[2:].rjust(l))\n",
        "if __name__ == '__main__':\n",
        "    n = int(input())\n",
        "    print_formatted(n)"
      ],
      "execution_count": 3,
      "outputs": [
        {
          "output_type": "stream",
          "text": [
            "5\n",
            "  1   1   1   1\n",
            "  2   2   2  10\n",
            "  3   3   3  11\n",
            "  4   4   4 100\n",
            "  5   5   5 101\n"
          ],
          "name": "stdout"
        }
      ]
    },
    {
      "cell_type": "markdown",
      "metadata": {
        "id": "zCuurIuGXOPZ"
      },
      "source": [
        "# Alphabet Rangoli "
      ]
    },
    {
      "cell_type": "markdown",
      "metadata": {
        "id": "iObiTq0gXxaF"
      },
      "source": [
        "\n",
        "\n",
        "```\n",
        "attempt : 1\n",
        "all the conditions are satisfied except for n = 1\n",
        "```\n",
        "\n"
      ]
    },
    {
      "cell_type": "code",
      "metadata": {
        "colab": {
          "base_uri": "https://localhost:8080/"
        },
        "id": "anFncQWtXqlA",
        "outputId": "1630fe33-64fd-4a80-d5f5-168d46d74e3c"
      },
      "source": [
        "def print_rangoli(size):\n",
        "    arr = ['a', 'b', 'c', 'd', 'e', 'f', 'g', 'h', 'i', 'j', 'k', 'l', 'm', 'n', 'o', 'p', 'q', 'r', 's', 't', 'u', 'v',\n",
        "           'w', 'x', 'y', 'z']\n",
        "    mxm = size + 3 * (size - 1)\n",
        "    if size == 1:          # error in looping for size=1 so fixed with this additional condition\n",
        "        print(arr[0])\n",
        "    else:\n",
        "        for i in range(size):\n",
        "            new = '-'.join(arr[size - i:size])[::-1] + '-' + arr[size - i - 1] + '-' + '-'.join(arr[size - i:size])\n",
        "            print(new.center(mxm, '-'))\n",
        "        for i in range(size - 1):\n",
        "            new = '-'.join(arr[i + 2:size])[::-1] + '-' + arr[i + 1] + '-' + '-'.join(arr[i + 2:size])\n",
        "            print(new.center(mxm, '-'))\n",
        "if __name__ == '__main__':\n",
        "    n = 5 #int(input())\n",
        "    print_rangoli(n)"
      ],
      "execution_count": 6,
      "outputs": [
        {
          "output_type": "stream",
          "text": [
            "--------e--------\n",
            "------e-d-e------\n",
            "----e-d-c-d-e----\n",
            "--e-d-c-b-c-d-e--\n",
            "e-d-c-b-a-b-c-d-e\n",
            "--e-d-c-b-c-d-e--\n",
            "----e-d-c-d-e----\n",
            "------e-d-e------\n",
            "--------e--------\n"
          ],
          "name": "stdout"
        }
      ]
    },
    {
      "cell_type": "markdown",
      "metadata": {
        "id": "el4d6C7KYqfB"
      },
      "source": [
        "\n",
        "\n",
        "```\n",
        "attempt : 2\n",
        "all the conditions are satisfied including the case for n = 1\n",
        "```\n"
      ]
    },
    {
      "cell_type": "code",
      "metadata": {
        "colab": {
          "base_uri": "https://localhost:8080/"
        },
        "id": "hu7dRf0HXPM4",
        "outputId": "b8ce5175-5a3a-423e-8169-a687a34c47de"
      },
      "source": [
        "def print_rangoli(size):\n",
        "    # your code goes here\n",
        "    arr='abcdefghijklmnopqrstuvwxyz'\n",
        "    mxm=size+3*(size-1)\n",
        "    for i in range(size):\n",
        "        new=arr[size-i:size][::-1]+arr[size-i-1]+arr[size-i:size]\n",
        "        new=[j for j in new]\n",
        "        new='-'.join(new)\n",
        "        print(new.center(mxm,'-'))\n",
        "    for i in range(size-1):\n",
        "        new=arr[i+2:size][::-1]+arr[i + 1]+arr[i+2:size]\n",
        "        new = [j for j in new]\n",
        "        new = '-'.join(new)\n",
        "        print(new.center(mxm, '-'))\n",
        "if __name__ == '__main__':\n",
        "    n = int(input())\n",
        "    print_rangoli(n)\n"
      ],
      "execution_count": 5,
      "outputs": [
        {
          "output_type": "stream",
          "text": [
            "20\n",
            "--------------------------------------t--------------------------------------\n",
            "------------------------------------t-s-t------------------------------------\n",
            "----------------------------------t-s-r-s-t----------------------------------\n",
            "--------------------------------t-s-r-q-r-s-t--------------------------------\n",
            "------------------------------t-s-r-q-p-q-r-s-t------------------------------\n",
            "----------------------------t-s-r-q-p-o-p-q-r-s-t----------------------------\n",
            "--------------------------t-s-r-q-p-o-n-o-p-q-r-s-t--------------------------\n",
            "------------------------t-s-r-q-p-o-n-m-n-o-p-q-r-s-t------------------------\n",
            "----------------------t-s-r-q-p-o-n-m-l-m-n-o-p-q-r-s-t----------------------\n",
            "--------------------t-s-r-q-p-o-n-m-l-k-l-m-n-o-p-q-r-s-t--------------------\n",
            "------------------t-s-r-q-p-o-n-m-l-k-j-k-l-m-n-o-p-q-r-s-t------------------\n",
            "----------------t-s-r-q-p-o-n-m-l-k-j-i-j-k-l-m-n-o-p-q-r-s-t----------------\n",
            "--------------t-s-r-q-p-o-n-m-l-k-j-i-h-i-j-k-l-m-n-o-p-q-r-s-t--------------\n",
            "------------t-s-r-q-p-o-n-m-l-k-j-i-h-g-h-i-j-k-l-m-n-o-p-q-r-s-t------------\n",
            "----------t-s-r-q-p-o-n-m-l-k-j-i-h-g-f-g-h-i-j-k-l-m-n-o-p-q-r-s-t----------\n",
            "--------t-s-r-q-p-o-n-m-l-k-j-i-h-g-f-e-f-g-h-i-j-k-l-m-n-o-p-q-r-s-t--------\n",
            "------t-s-r-q-p-o-n-m-l-k-j-i-h-g-f-e-d-e-f-g-h-i-j-k-l-m-n-o-p-q-r-s-t------\n",
            "----t-s-r-q-p-o-n-m-l-k-j-i-h-g-f-e-d-c-d-e-f-g-h-i-j-k-l-m-n-o-p-q-r-s-t----\n",
            "--t-s-r-q-p-o-n-m-l-k-j-i-h-g-f-e-d-c-b-c-d-e-f-g-h-i-j-k-l-m-n-o-p-q-r-s-t--\n",
            "t-s-r-q-p-o-n-m-l-k-j-i-h-g-f-e-d-c-b-a-b-c-d-e-f-g-h-i-j-k-l-m-n-o-p-q-r-s-t\n",
            "--t-s-r-q-p-o-n-m-l-k-j-i-h-g-f-e-d-c-b-c-d-e-f-g-h-i-j-k-l-m-n-o-p-q-r-s-t--\n",
            "----t-s-r-q-p-o-n-m-l-k-j-i-h-g-f-e-d-c-d-e-f-g-h-i-j-k-l-m-n-o-p-q-r-s-t----\n",
            "------t-s-r-q-p-o-n-m-l-k-j-i-h-g-f-e-d-e-f-g-h-i-j-k-l-m-n-o-p-q-r-s-t------\n",
            "--------t-s-r-q-p-o-n-m-l-k-j-i-h-g-f-e-f-g-h-i-j-k-l-m-n-o-p-q-r-s-t--------\n",
            "----------t-s-r-q-p-o-n-m-l-k-j-i-h-g-f-g-h-i-j-k-l-m-n-o-p-q-r-s-t----------\n",
            "------------t-s-r-q-p-o-n-m-l-k-j-i-h-g-h-i-j-k-l-m-n-o-p-q-r-s-t------------\n",
            "--------------t-s-r-q-p-o-n-m-l-k-j-i-h-i-j-k-l-m-n-o-p-q-r-s-t--------------\n",
            "----------------t-s-r-q-p-o-n-m-l-k-j-i-j-k-l-m-n-o-p-q-r-s-t----------------\n",
            "------------------t-s-r-q-p-o-n-m-l-k-j-k-l-m-n-o-p-q-r-s-t------------------\n",
            "--------------------t-s-r-q-p-o-n-m-l-k-l-m-n-o-p-q-r-s-t--------------------\n",
            "----------------------t-s-r-q-p-o-n-m-l-m-n-o-p-q-r-s-t----------------------\n",
            "------------------------t-s-r-q-p-o-n-m-n-o-p-q-r-s-t------------------------\n",
            "--------------------------t-s-r-q-p-o-n-o-p-q-r-s-t--------------------------\n",
            "----------------------------t-s-r-q-p-o-p-q-r-s-t----------------------------\n",
            "------------------------------t-s-r-q-p-q-r-s-t------------------------------\n",
            "--------------------------------t-s-r-q-r-s-t--------------------------------\n",
            "----------------------------------t-s-r-s-t----------------------------------\n",
            "------------------------------------t-s-t------------------------------------\n",
            "--------------------------------------t--------------------------------------\n"
          ],
          "name": "stdout"
        }
      ]
    },
    {
      "cell_type": "markdown",
      "metadata": {
        "id": "aAHAGGIDZKEC"
      },
      "source": [
        "# Matrix reading "
      ]
    },
    {
      "cell_type": "code",
      "metadata": {
        "id": "rZszwKeBZK_b"
      },
      "source": [
        "import numpy as np\n",
        "a=list(map(int,input().split()))\n",
        "n,m=a[0],a[1]\n",
        "mat=np.zeros((n,m),dtype=int)\n",
        "for i in range(n):\n",
        "    mat[i]=list(map(int,input().split()))\n",
        "print(mat)"
      ],
      "execution_count": null,
      "outputs": []
    },
    {
      "cell_type": "markdown",
      "metadata": {
        "id": "YwdLRA3RZgU_"
      },
      "source": [
        "# Re.findall() & Re.finditer()\n",
        "hard"
      ]
    },
    {
      "cell_type": "code",
      "metadata": {
        "id": "HI1t32ArZhmc"
      },
      "source": [
        "import re\n",
        "a=input()\n",
        "vowels='AEIOUaeiou'\n",
        "consonants='QWRTYPSDFGHJKLZXCVBNMqwrtypsdfghjklzxcvbnm'\n",
        "ans=re.findall(r'(?<=['+consonants+'])(['+vowels+']{2,})(?=['+consonants+'])',a)\n",
        "if ans:\n",
        "    for i in ans:\n",
        "        print(i)\n",
        "else:\n",
        "    print(-1)"
      ],
      "execution_count": null,
      "outputs": []
    },
    {
      "cell_type": "markdown",
      "metadata": {
        "id": "w-lfmBDxaVZF"
      },
      "source": [
        "# re.start() re.end()"
      ]
    },
    {
      "cell_type": "code",
      "metadata": {
        "id": "kqp41bKQaT62"
      },
      "source": [
        "import re\n",
        "S, k = input(), input()\n",
        "matches = re.finditer(r'(?=(' + k + '))', S)\n",
        "anymatch = False\n",
        "for match in matches:\n",
        "    #print(match)\n",
        "    anymatch = True\n",
        "    print((match.start(1), match.end(1) - 1))\n",
        "if anymatch == False:\n",
        "    print((-1, -1))"
      ],
      "execution_count": null,
      "outputs": []
    },
    {
      "cell_type": "markdown",
      "metadata": {
        "id": "F6jPphWaah67"
      },
      "source": [
        "# DefaultDict Tutorial"
      ]
    },
    {
      "cell_type": "code",
      "metadata": {
        "id": "qWBW-K-eajCz"
      },
      "source": [
        "x=list(map(int,input().split()))\n",
        "n,m=x[0],x[1]\n",
        "a,b=[],[]\n",
        "for i in range(n):\n",
        "    a.append(input())\n",
        "for i in range(m):\n",
        "    b.append(input())\n",
        "for i in b:\n",
        "    j=0\n",
        "    ele=[]\n",
        "    flag = False\n",
        "    while j<len(a):\n",
        "        if a[j]==i:\n",
        "            ele.append(str(j+1))\n",
        "            flag=True\n",
        "        else:\n",
        "            pass\n",
        "        j+=1\n",
        "    if flag == False:\n",
        "        print(-1)\n",
        "    else:\n",
        "        print(' '.join(ele))"
      ],
      "execution_count": null,
      "outputs": []
    },
    {
      "cell_type": "markdown",
      "metadata": {
        "id": "zAmEITJLavMF"
      },
      "source": [
        "# Collections.OrderedDict()"
      ]
    },
    {
      "cell_type": "code",
      "metadata": {
        "id": "b42sl0NXawJk"
      },
      "source": [
        "import re\n",
        "total={}\n",
        "n=int(input())\n",
        "for i in range(n):\n",
        "    x=input()\n",
        "    l=re.search(r\"\\d\",x).start()\n",
        "    total[x[:l]]=total.get(x[:l],0)+int(x[l:])\n",
        "for i in total.keys():\n",
        "    print(i+str(total[i]))"
      ],
      "execution_count": null,
      "outputs": []
    },
    {
      "cell_type": "markdown",
      "metadata": {
        "id": "7W4Sm4rFa5eQ"
      },
      "source": [
        "# Word Order"
      ]
    },
    {
      "cell_type": "code",
      "metadata": {
        "id": "sWLqScYma6XI"
      },
      "source": [
        "n=int(input())\n",
        "total={}\n",
        "for i in range(n):\n",
        "    a=input()\n",
        "    total[a]=total.get(a,0)+1\n",
        "for i in total.keys():\n",
        "    total[i]=str(total[i])\n",
        "print(len(total.keys()))\n",
        "print(' '.join(total.values()))"
      ],
      "execution_count": null,
      "outputs": []
    },
    {
      "cell_type": "markdown",
      "metadata": {
        "id": "SPwgxTP4a-7D"
      },
      "source": [
        "# Piling Up!"
      ]
    },
    {
      "cell_type": "code",
      "metadata": {
        "id": "zqbDLzX1bPID"
      },
      "source": [
        "from collections import deque\n",
        "t=int(input())\n",
        "def fun(d):\n",
        "    while d:\n",
        "        b=d.popleft() if d[0]>d[-1] else d.pop()\n",
        "        if not d:\n",
        "            return 'Yes'\n",
        "        if b<d[0] or b<d[-1]:\n",
        "            return 'No'\n",
        "for i in range(t):\n",
        "    n=int(input())\n",
        "    x=deque(map(int,input().split()))\n",
        "    print(fun(x))"
      ],
      "execution_count": null,
      "outputs": []
    },
    {
      "cell_type": "markdown",
      "metadata": {
        "id": "eKNL9Etpbpo1"
      },
      "source": [
        "or"
      ]
    },
    {
      "cell_type": "code",
      "metadata": {
        "id": "opiLNJ-SbjnH"
      },
      "source": [
        "def fun(d):\n",
        "    l,i=len(d),0\n",
        "    while i<l-1 and d[i]>=d[i+1]:\n",
        "        i+=1\n",
        "    while i<l-1 and d[i]<=d[i+1]:\n",
        "        i+=1\n",
        "    return 'Yes' if i==l-1 else 'No'\n",
        "for i in range(int(input())):\n",
        "    n=int(input())\n",
        "    x=list(map(int,input().split()))\n",
        "    print(fun(x))"
      ],
      "execution_count": null,
      "outputs": []
    },
    {
      "cell_type": "markdown",
      "metadata": {
        "id": "twX9gPEbbiZv"
      },
      "source": [
        "# Company Logo"
      ]
    },
    {
      "cell_type": "code",
      "metadata": {
        "id": "_WJbkihvbypC"
      },
      "source": [
        "!/bin/python3\n",
        "import math\n",
        "import os\n",
        "import random\n",
        "import re\n",
        "import sys\n",
        "\n",
        "if __name__ == '__main__':\n",
        "    s = input()\n",
        "    dict = {}\n",
        "    for i in s:\n",
        "        dict[i] = dict.get(i, 0) + 1\n",
        "    s1 = {}\n",
        "    index = sorted(dict, key=dict.get, reverse=True)\n",
        "    for i in index:\n",
        "        s1[i] = dict[i]\n",
        "    # print(s1)\n",
        "    s2 = {}\n",
        "    for i in s1:\n",
        "        b = []\n",
        "        s2[s1[i]] = b\n",
        "    # print(s2)\n",
        "    for i in s1:\n",
        "        s2[s1[i]].append(i)\n",
        "        s2[s1[i]].sort()\n",
        "        # print(s2)\n",
        "        final = []\n",
        "\n",
        "    for i in s2.values():\n",
        "        for j in i:\n",
        "            final.append(j)\n",
        "    # print(final)\n",
        "    for i in range(3):\n",
        "        print(final[i], dict[final[i]])"
      ],
      "execution_count": null,
      "outputs": []
    },
    {
      "cell_type": "markdown",
      "metadata": {
        "id": "pmQr_T8Qb-fK"
      },
      "source": [
        "# Calendar Module"
      ]
    },
    {
      "cell_type": "code",
      "metadata": {
        "id": "UsluT6zzb_ZZ"
      },
      "source": [
        "import calendar\n",
        "s=list(map(int,input().split()))\n",
        "a=calendar.weekday(s[2],s[0],s[1])\n",
        "b=calendar.day_name\n",
        "print(b[a].upper())"
      ],
      "execution_count": null,
      "outputs": []
    },
    {
      "cell_type": "markdown",
      "metadata": {
        "id": "HQOk_NEZcEfM"
      },
      "source": [
        "# itertools.permutations()"
      ]
    },
    {
      "cell_type": "code",
      "metadata": {
        "id": "s5akivI5cHiW"
      },
      "source": [
        "from itertools import permutations\n",
        "a=list(map(str,input().split()))\n",
        "n=int(a[1])\n",
        "sorted_string = ''.join(sorted(a[0]))\n",
        "b=list(permutations(sorted_string,n))\n",
        "for i in b:\n",
        "    ele=''\n",
        "    for j in i:\n",
        "        ele+=j\n",
        "    print(ele)"
      ],
      "execution_count": null,
      "outputs": []
    },
    {
      "cell_type": "markdown",
      "metadata": {
        "id": "b8igqcCccowW"
      },
      "source": [
        "# itertools.combinations()"
      ]
    },
    {
      "cell_type": "code",
      "metadata": {
        "id": "qZEk-DWocpss"
      },
      "source": [
        "from itertools import combinations\n",
        "a=list(map(str,input().split()))\n",
        "n=int(a[1])\n",
        "sorted_string = ''.join(sorted(a[0]))\n",
        "for k in range(n):\n",
        "    b=list(combinations(sorted_string,k+1))\n",
        "    for i in b:\n",
        "        ele=''\n",
        "        for j in i:\n",
        "            ele+=j\n",
        "        print(ele)"
      ],
      "execution_count": null,
      "outputs": []
    },
    {
      "cell_type": "markdown",
      "metadata": {
        "id": "l6rKZzL7ctV5"
      },
      "source": [
        "# itertools.combinations_with_replacement()"
      ]
    },
    {
      "cell_type": "code",
      "metadata": {
        "id": "CtaayMIhc0Un"
      },
      "source": [
        "from itertools import combinations_with_replacement\n",
        "a=list(map(str,input().split()))\n",
        "n=int(a[1])\n",
        "sorted_string = ''.join(sorted(a[0]))\n",
        "b=list(combinations_with_replacement(sorted_string,n))\n",
        "for i in b:\n",
        "    ele=''\n",
        "    for j in i:\n",
        "        ele+=j\n",
        "    print(ele)"
      ],
      "execution_count": null,
      "outputs": []
    },
    {
      "cell_type": "markdown",
      "metadata": {
        "id": "-VIyxTRjc14u"
      },
      "source": [
        "# Compress the String!"
      ]
    },
    {
      "cell_type": "code",
      "metadata": {
        "id": "-Efx2cfcdEU8"
      },
      "source": [
        "s=input()\n",
        "s1=''\n",
        "i=0\n",
        "while i<len(s):\n",
        "    if i==0 or s[i]==s[i-1]:\n",
        "        s1+=s[i]\n",
        "    else:\n",
        "        s1+=','+s[i]\n",
        "    i+=1\n",
        "l1=list(map(str,s1.split(',')))\n",
        "l2=[]\n",
        "for i in l1:\n",
        "    ele=f'{len(i),int(i[0])}'\n",
        "    l2.append(ele)\n",
        "print(' '.join(l2))"
      ],
      "execution_count": null,
      "outputs": []
    },
    {
      "cell_type": "markdown",
      "metadata": {
        "id": "JZ9dupF9dKDf"
      },
      "source": [
        "# Iterables and Iterators "
      ]
    },
    {
      "cell_type": "code",
      "metadata": {
        "id": "VWc_Cu5EdNp-"
      },
      "source": [
        "from itertools import combinations\n",
        "n=input()\n",
        "s=''.join(list(map(str,input().split())))\n",
        "div=int(input())\n",
        "l1=(list(combinations(s,div)))\n",
        "num,den=0,len(l1)\n",
        "for i in l1:\n",
        "    if 'a' in i:\n",
        "        num+=1\n",
        "print(num/den)"
      ],
      "execution_count": null,
      "outputs": []
    },
    {
      "cell_type": "markdown",
      "metadata": {
        "id": "uUc4oiEVdYeb"
      },
      "source": [
        "# Maximize It!"
      ]
    },
    {
      "cell_type": "code",
      "metadata": {
        "id": "TemWGKn8dZbi"
      },
      "source": [
        "from itertools import product\n",
        "l1=[]\n",
        "a=list(map(int,input().split()))\n",
        "k,m=a[0],a[1]\n",
        "big=0\n",
        "for i in range(k):\n",
        "    l1.append(list(map(int,input().split()))[1:])\n",
        "l2=list(product(*l1))\n",
        "for i in l2:\n",
        "    sum=0\n",
        "    for j in i:\n",
        "        sum+=j**2\n",
        "    if big<sum%m:\n",
        "        big=sum%m\n",
        "print(big)"
      ],
      "execution_count": null,
      "outputs": []
    },
    {
      "cell_type": "markdown",
      "metadata": {
        "id": "-Q4D0uB3dkyc"
      },
      "source": [
        "# Polar Coordinates "
      ]
    },
    {
      "cell_type": "code",
      "metadata": {
        "id": "5SSOYY3gdvgh"
      },
      "source": [
        "from cmath import phase\n",
        "import re\n",
        "a=input()\n",
        "b=re.findall('.{1}[0-9]+j',a)\n",
        "y=float(b[0][:-1])\n",
        "x=float(a.replace(b[0],''))\n",
        "print(abs(complex(x,y)))\n",
        "print(phase(complex(x,y)))\n"
      ],
      "execution_count": null,
      "outputs": []
    },
    {
      "cell_type": "markdown",
      "metadata": {
        "id": "eamrtDx9dvRc"
      },
      "source": [
        "# Find Angle MBC"
      ]
    },
    {
      "cell_type": "code",
      "metadata": {
        "id": "kX0NZJaLd7sN"
      },
      "source": [
        "import math\n",
        "a,b=int(input()),int(input())\n",
        "ans=round(math.degrees(math.atan(a/b)))\n",
        "print(str(ans)+chr(176))"
      ],
      "execution_count": null,
      "outputs": []
    },
    {
      "cell_type": "markdown",
      "metadata": {
        "id": "bpr59pYEd9yX"
      },
      "source": [
        "# Triangle Quest 2"
      ]
    },
    {
      "cell_type": "code",
      "metadata": {
        "id": "WsayyAw1eFvz"
      },
      "source": [
        "for i in range(1,5+1):\n",
        "    print((((10 ** i) - 1) // (9)) ** 2) # without str\n",
        "    #print(''.join([str(i) for i in range(1,i+1)])+''.join(reversed([str(i) for i in range(1,i)]))) # with str"
      ],
      "execution_count": null,
      "outputs": []
    },
    {
      "cell_type": "markdown",
      "metadata": {
        "id": "Q6X1ArUXeal3"
      },
      "source": [
        "# to be continued..."
      ]
    }
  ]
}